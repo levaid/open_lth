{
 "cells": [
  {
   "cell_type": "code",
   "execution_count": 10,
   "metadata": {},
   "outputs": [],
   "source": [
    "import sys\n",
    "sys.path.append('../')\n",
    "import torch\n",
    "import matplotlib.pyplot as plt\n",
    "import numpy\n",
    "import seaborn\n",
    "import glob\n",
    "import helper_functions as H\n",
    "import os"
   ]
  },
  {
   "cell_type": "code",
   "execution_count": 11,
   "metadata": {},
   "outputs": [
    {
     "name": "stdout",
     "output_type": "stream",
     "text": [
      "lottery_77ccf74effaa12a1080d10c004b178e9 cifar_resnet_20 sparse_global ['60ep', '60ep']\n",
      "lottery_c9ab87697812513e77dcdf036148e702 cifar_resnet_20 sparse_global ['60ep', '30ep']\n",
      "lottery_d6478c03d070c99e74f6c5dd45144af0 cifar_resnet_20 snip_global ['60ep', '2ep']\n",
      "lottery_239ce8efd67b8ae0336a8b1d47f74dc2 cifar_resnet_20 snip_global ['60ep', '3ep']\n",
      "lottery_28b64aaae0ad0225f18679f028a0ea10 cifar_resnet_20 snip_global ['60ep', '1ep']\n",
      "lottery_97c154328f6ac7deb8e3f63e850377ec cifar_resnet_20 sparse_global ['60ep', '2ep']\n",
      "lottery_17cb0f2acaaeed6e0223ea536bc83c24 cifar_resnet_20 sparse_global ['60ep', '1ep']\n",
      "lottery_575c95e6170febf8c1b44442778af1e2 cifar_resnet_20 sparse_global ['60ep', '4ep']\n",
      "lottery_b127a3b1e4c0b9a6dbea4177284bd2e2 cifar_resnet_20 sparse_global ['60ep', '3ep']\n",
      "lottery_27fc08cb263fb1c85f3b2ff9458b0590 cifar_resnet_20 sparse_global ['60ep', '5ep']\n",
      "lottery_ddadeed895715035706ce92865c28ae7 cifar_resnet_20 snip_global ['60ep', '4ep']\n",
      "lottery_e300b68a8b05fef5ba2916fbf1756b22 cifar_resnet_20 snip_global ['60ep', '5ep']\n",
      "lottery_6ed394e5d1b3ab26f6acabcbae4ae3f0 cifar_resnet_20 sparse_global ['60ep', '50ep']\n",
      "lottery_dd42065c5b8ca3f9500206297abfbfa8 cifar_resnet_20 snip_global ['60ep', '60ep']\n",
      "lottery_f21c5ed1e35e20e0775617042ede15d2 cifar_resnet_20 sparse_global ['60ep', '40ep']\n"
     ]
    }
   ],
   "source": [
    "open_lth_data_path = '/home/levaid/bigstorage/open_lth_data/'\n",
    "\n",
    "for ex in os.listdir(open_lth_data_path):\n",
    "    if ex == 'old_experiments_pre_sept':\n",
    "        continue\n",
    "    model_name, pruning_strategy, *epochs = H.get_hparams_from_experiment(ex, open_lth_data_path, ['model_name', 'pruning_strategy', 'training_steps'])\n",
    "    print(ex, model_name, pruning_strategy, epochs)"
   ]
  },
  {
   "cell_type": "code",
   "execution_count": 16,
   "metadata": {},
   "outputs": [],
   "source": [
    "model = torch.load(os.path.join(open_lth_data_path, 'lottery_17cb0f2acaaeed6e0223ea536bc83c24', 'replicate_1', 'level_posttrain', 'main', 'checkpoint.pth'))"
   ]
  },
  {
   "cell_type": "code",
   "execution_count": 20,
   "metadata": {},
   "outputs": [
    {
     "data": {
      "text/plain": [
       "tensor([[0., 0., 0., 1., 0., 0., 1., 0., 0., 0., 0., 0., 1., 1., 0., 0., 1., 0.,\n",
       "         0., 0., 0., 0., 0., 0., 0., 0., 0., 0., 0., 0., 0., 0., 1., 0., 0., 1.,\n",
       "         1., 0., 0., 0., 0., 0., 0., 0., 1., 0., 0., 1., 0., 0., 1., 0., 0., 1.,\n",
       "         0., 0., 0., 0., 0., 0., 1., 0., 1., 0.],\n",
       "        [0., 0., 0., 0., 0., 1., 0., 0., 0., 0., 0., 0., 0., 1., 0., 0., 0., 0.,\n",
       "         1., 0., 1., 0., 0., 0., 0., 0., 0., 0., 1., 0., 0., 0., 0., 0., 0., 0.,\n",
       "         0., 0., 0., 1., 0., 0., 0., 1., 0., 0., 0., 0., 0., 1., 0., 0., 0., 0.,\n",
       "         1., 0., 1., 0., 1., 0., 1., 1., 0., 0.],\n",
       "        [0., 1., 0., 0., 0., 0., 0., 0., 0., 0., 0., 0., 1., 0., 0., 0., 1., 0.,\n",
       "         0., 0., 0., 0., 0., 0., 0., 0., 0., 0., 0., 0., 0., 1., 1., 0., 1., 0.,\n",
       "         0., 1., 0., 0., 0., 0., 0., 0., 0., 0., 0., 0., 0., 1., 0., 0., 0., 0.,\n",
       "         0., 1., 0., 0., 0., 1., 0., 0., 0., 0.],\n",
       "        [0., 0., 0., 0., 0., 0., 0., 1., 0., 0., 1., 0., 0., 0., 0., 0., 0., 0.,\n",
       "         0., 0., 0., 0., 0., 0., 0., 0., 1., 0., 0., 0., 1., 0., 1., 1., 0., 0.,\n",
       "         0., 0., 0., 0., 0., 1., 0., 0., 0., 1., 0., 0., 0., 0., 0., 0., 0., 0.,\n",
       "         0., 0., 0., 0., 0., 0., 0., 1., 0., 0.],\n",
       "        [0., 0., 0., 0., 0., 0., 0., 0., 0., 0., 1., 0., 0., 0., 0., 0., 0., 1.,\n",
       "         0., 0., 0., 0., 0., 0., 0., 0., 0., 0., 0., 0., 0., 0., 0., 0., 0., 0.,\n",
       "         0., 0., 0., 0., 0., 0., 0., 0., 0., 0., 1., 1., 0., 0., 0., 1., 0., 0.,\n",
       "         0., 0., 0., 0., 0., 0., 0., 0., 1., 0.],\n",
       "        [1., 0., 0., 0., 0., 0., 0., 0., 0., 0., 0., 0., 0., 0., 1., 0., 0., 0.,\n",
       "         0., 0., 0., 0., 0., 0., 0., 0., 0., 0., 0., 0., 0., 0., 1., 0., 0., 0.,\n",
       "         0., 0., 0., 0., 0., 1., 0., 1., 0., 0., 0., 0., 0., 0., 0., 0., 0., 0.,\n",
       "         0., 0., 0., 0., 0., 0., 0., 0., 0., 1.],\n",
       "        [0., 0., 0., 0., 0., 0., 1., 0., 0., 0., 0., 0., 0., 1., 0., 1., 0., 0.,\n",
       "         0., 0., 0., 0., 0., 0., 0., 0., 0., 1., 1., 0., 1., 1., 0., 0., 0., 0.,\n",
       "         0., 0., 1., 0., 0., 0., 0., 0., 0., 0., 0., 1., 0., 0., 0., 0., 0., 0.,\n",
       "         0., 0., 0., 1., 0., 0., 0., 1., 0., 0.],\n",
       "        [0., 0., 0., 0., 0., 0., 0., 0., 0., 0., 1., 1., 1., 0., 0., 0., 0., 0.,\n",
       "         0., 0., 1., 0., 0., 0., 0., 0., 0., 0., 0., 0., 0., 1., 0., 0., 0., 0.,\n",
       "         0., 0., 0., 0., 0., 0., 0., 0., 0., 0., 1., 0., 0., 0., 0., 0., 0., 0.,\n",
       "         0., 0., 0., 0., 0., 0., 0., 1., 1., 1.],\n",
       "        [0., 0., 1., 0., 0., 0., 1., 0., 0., 0., 1., 1., 0., 1., 0., 0., 0., 0.,\n",
       "         0., 0., 0., 0., 0., 0., 0., 0., 0., 1., 0., 0., 0., 0., 1., 1., 0., 0.,\n",
       "         0., 0., 0., 0., 0., 0., 0., 1., 1., 0., 0., 0., 1., 0., 0., 0., 0., 0.,\n",
       "         0., 0., 0., 0., 0., 0., 1., 1., 0., 1.],\n",
       "        [0., 1., 0., 0., 0., 0., 1., 0., 0., 0., 0., 0., 0., 0., 0., 0., 0., 0.,\n",
       "         0., 1., 0., 0., 1., 0., 1., 1., 0., 0., 0., 0., 0., 0., 1., 0., 0., 0.,\n",
       "         0., 0., 0., 0., 1., 1., 0., 1., 1., 0., 1., 0., 0., 1., 0., 0., 0., 0.,\n",
       "         0., 1., 1., 0., 0., 0., 0., 0., 1., 0.]], device='cuda:0')"
      ]
     },
     "execution_count": 20,
     "metadata": {},
     "output_type": "execute_result"
    }
   ],
   "source": [
    "model['model_state_dict'].mask_fc___weight"
   ]
  },
  {
   "cell_type": "code",
   "execution_count": null,
   "metadata": {},
   "outputs": [],
   "source": []
  }
 ],
 "metadata": {
  "kernelspec": {
   "display_name": "Python 3",
   "language": "python",
   "name": "python3"
  },
  "language_info": {
   "codemirror_mode": {
    "name": "ipython",
    "version": 3
   },
   "file_extension": ".py",
   "mimetype": "text/x-python",
   "name": "python",
   "nbconvert_exporter": "python",
   "pygments_lexer": "ipython3",
   "version": "3.7.7"
  }
 },
 "nbformat": 4,
 "nbformat_minor": 4
}
